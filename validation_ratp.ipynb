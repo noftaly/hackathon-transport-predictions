{
 "cells": [
  {
   "cell_type": "code",
   "execution_count": 1,
   "metadata": {},
   "outputs": [],
   "source": [
    "import pandas as pd\n"
   ]
  },
  {
   "cell_type": "code",
   "execution_count": 2,
   "metadata": {},
   "outputs": [],
   "source": [
    "vacances = [\n",
    "    (pd.to_datetime(\"01/01/2023\", format='%d/%m/%Y'), pd.to_datetime(\"03/01/2023\", format='%d/%m/%Y')),\n",
    "    (pd.to_datetime(\"18/02/2023\", format='%d/%m/%Y'), pd.to_datetime(\"06/03/2023\", format='%d/%m/%Y')),\n",
    "    (pd.to_datetime(\"22/04/2023\", format='%d/%m/%Y'), pd.to_datetime(\"09/05/2023\", format='%d/%m/%Y')),\n",
    "    (pd.to_datetime(\"08/07/2023\", format='%d/%m/%Y'), pd.to_datetime(\"31/12/2023\", format='%d/%m/%Y'))\n",
    "]\n",
    "\n",
    "jours_feries = [\"01/01/2023\", \"10/04/2023\", \"01/05/2023\", \"08/05/2023\", \"18/05/2023\", \"19/05/2023\", \"29/05/2023\"]\n",
    "\n",
    "def is_vacances(date):\n",
    "    for debut, fin in vacances:\n",
    "        if debut <= date <= fin:\n",
    "            return True\n",
    "    return False\n",
    "\n",
    "def is_jours_feries(date):\n",
    "    return date.strftime('%d/%m/%Y') in jours_feries\n",
    "\n",
    "def is_johv(date):\n",
    "    return date.weekday() < 5 and not is_vacances(date) and not is_jours_feries(date)\n",
    "\n",
    "def is_sahv(date):\n",
    "    return date.weekday() == 5 and not is_vacances(date) and not is_jours_feries(date)\n",
    "\n",
    "def is_jovs(date):\n",
    "    return date.weekday() < 5 and is_vacances(date)\n",
    "\n",
    "def is_savs(date):\n",
    "    return date.weekday() == 5 and is_vacances(date)\n",
    "\n",
    "def is_dijfp(date):\n",
    "    return date.weekday() == 6 or is_jours_feries(date)\n"
   ]
  },
  {
   "cell_type": "code",
   "execution_count": 3,
   "metadata": {},
   "outputs": [],
   "source": [
    "df_nb = pd.read_csv('validations-nombre-2023-S1.csv', sep=';')\n",
    "df_ph = pd.read_csv('validations-profils-2023-S1.csv', sep=';')\n",
    "df_geo = pd.read_csv('emplacement-des-gares-idf.csv', sep=';', usecols=['Geo Point', 'id_ref_ZdC'])\n",
    "\n",
    "df_nb['JOUR'] = pd.to_datetime(df_nb['JOUR'], format='%Y-%m-%d')\n",
    "df_nb['LIBELLE_ARRET'] = df_nb['LIBELLE_ARRET'].str.strip()\n",
    "df_nb['CAT_JOUR'] = df_nb['JOUR'].apply(lambda x: 'JOHV' if is_johv(x) else 'SAHV' if is_sahv(x) else 'JOVS' if is_jovs(x) else 'SAVS' if is_savs(x) else 'DIJFP')\n",
    "\n",
    "df_ph['LIBELLE_ARRET'] = df_ph['LIBELLE_ARRET'].str.strip()\n",
    "df_ph = df_ph[df_ph['TRNC_HORR_60'] != 'ND']\n",
    "df_ph['TRNC_HORR_60'] = df_ph['TRNC_HORR_60'].str.split('-').str[0].str.split('H').str[0].astype(int)\n",
    "df_ph = df_ph.rename(columns={'TRNC_HORR_60': 'HEURE'})\n",
    "\n",
    "df_geo['LATITUDE'] = df_geo['Geo Point'].str.split(',').str[0].astype(float)\n",
    "df_geo['LONGITUDE'] = df_geo['Geo Point'].str.split(',').str[1].astype(float)\n",
    "df_geo = df_geo.drop(columns=['Geo Point'])"
   ]
  },
  {
   "cell_type": "code",
   "execution_count": 4,
   "metadata": {},
   "outputs": [],
   "source": [
    "# Compute the mean NB_VALID for each LIBELLE_ARRET and CAT_JOUR\n",
    "df_mean = df_nb.groupby(['LIBELLE_ARRET', 'CAT_JOUR'])['NB_VALD'].mean().reset_index()\n",
    "df_mean = df_mean.pivot(index='LIBELLE_ARRET', columns='CAT_JOUR', values='NB_VALD').reset_index()\n",
    "df_mean = df_mean.melt(id_vars=['LIBELLE_ARRET'], var_name='CAT_JOUR', value_name='NB_VALD')\n"
   ]
  },
  {
   "cell_type": "code",
   "execution_count": 5,
   "metadata": {},
   "outputs": [],
   "source": [
    "# Merge the df_mean_melted with df_ph where the rows \"LIBELLE_ARRET\" and \"CAT_JOUR\" are the same\n",
    "df = pd.merge(df_mean, df_ph, on=['LIBELLE_ARRET', 'CAT_JOUR'], how='inner')\n",
    "\n",
    "# In each row, multiply pourc_validations by NB_VALID\n",
    "df['NB_VALD'] = df['NB_VALD'] * df['pourc_validations']"
   ]
  },
  {
   "cell_type": "code",
   "execution_count": 6,
   "metadata": {},
   "outputs": [],
   "source": [
    "# Drop rows where lda = 999999\n",
    "df = df[df['lda'] != 999999]\n",
    "\n",
    "fix_lda = {\n",
    "    73792: 478926,\n",
    "    71686: 71697,\n",
    "    71743: 463564,\n",
    "    73652: 71607,\n",
    "    71219: 473829,\n",
    "    73615: 71359,\n",
    "    73794: 474151,\n",
    "    425819: 66915,\n",
    "    59577: 478855,\n",
    "    71282: 479068,\n",
    "    72219: 72225,\n",
    "    62737: 478505,\n",
    "    74000: 71434,\n",
    "    71245: 71229,\n",
    "    73616: 478885,\n",
    "    74040: 71139,\n",
    "    412697: 479919,\n",
    "    67747: 462934,\n",
    "    72059: 478883,\n",
    "    73795: 474152,\n",
    "    69531: 463754,\n",
    "    63650: 463850,\n",
    "    74371: 463843\n",
    "}\n",
    "\n",
    "# Replace lda by the correct value\n",
    "df['lda'] = df['lda'].replace(fix_lda)\n",
    "\n",
    "df_geo_unique = df_geo.drop_duplicates(subset=['id_ref_ZdC'], keep='first')\n",
    "df = df.merge(df_geo_unique, left_on='lda', right_on='id_ref_ZdC', how='left')"
   ]
  },
  {
   "cell_type": "code",
   "execution_count": 7,
   "metadata": {},
   "outputs": [],
   "source": [
    "df = df.drop(columns=['CODE_STIF_TRNS', 'CODE_STIF_RES', 'CODE_STIF_ARRET', 'id_ref_ZdC'])"
   ]
  },
  {
   "cell_type": "code",
   "execution_count": 8,
   "metadata": {},
   "outputs": [],
   "source": [
    "df['VACANCES'] = df['CAT_JOUR'].apply(lambda x: x in ['SAVS', 'JOVS'])\n",
    "df['JOUR_OUVRE'] = df['CAT_JOUR'].apply(lambda x: x in ['JOVH', 'JOVS'])\n",
    "df['SAMEDI'] = df['CAT_JOUR'].apply(lambda x: x in ['SAVH', 'SAVS'])\n",
    "df['DIMANCHE_JOUR_FERIE'] = df['CAT_JOUR'].apply(lambda x: x == 'DIJFP')\n"
   ]
  },
  {
   "cell_type": "code",
   "execution_count": 9,
   "metadata": {},
   "outputs": [],
   "source": [
    "df.to_csv('validations-2023-S1.csv', index=False)"
   ]
  }
 ],
 "metadata": {
  "kernelspec": {
   "display_name": ".venv",
   "language": "python",
   "name": "python3"
  },
  "language_info": {
   "codemirror_mode": {
    "name": "ipython",
    "version": 3
   },
   "file_extension": ".py",
   "mimetype": "text/x-python",
   "name": "python",
   "nbconvert_exporter": "python",
   "pygments_lexer": "ipython3",
   "version": "3.12.3"
  }
 },
 "nbformat": 4,
 "nbformat_minor": 2
}
